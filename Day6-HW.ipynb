{
 "cells": [
  {
   "cell_type": "markdown",
   "id": "2eac3f7d-62ee-4545-9a96-b3d5aacc4da4",
   "metadata": {},
   "source": [
    "## Introduction to Data Science\n",
    "\n",
    "#### University of Redlands - DATA 101\n",
    "#### Prof: Joanna Bieri [joanna_bieri@redlands.edu](mailto:joanna_bieri@redlands.edu)\n",
    "#### [Class Website: data101.joannabieri.com](https://joannabieri.com/data101.html)\n",
    "\n",
    "---------------------------------------\n",
    "# Homework Day 6\n",
    "---------------------------------------\n",
    "\n",
    "GOALS:\n",
    "\n",
    "1. Answer all the questions from the lecture.\n",
    "2. Practice wrangling data - doing more advanced code\n",
    "3. Complete your first more advanced Exploration/Exercise\n",
    "\n",
    "----------------------------------------------------------\n",
    "\n",
    "This homework has **4 Questions** and **7 Exercises**\n",
    "\n",
    "NOTE:\n",
    "Exercises will tend to be an analysis of a single piece of data where one exercise builds on the next.\n"
   ]
  },
  {
   "cell_type": "code",
   "execution_count": null,
   "id": "85d851b3-4123-484c-a51a-561490abcc68",
   "metadata": {},
   "outputs": [],
   "source": [
    "import numpy as np\n",
    "import pandas as pd\n",
    "\n",
    "import matplotlib.pyplot as plt\n",
    "import plotly.express as px\n",
    "from plotly.subplots import make_subplots\n",
    "import plotly.io as pio\n",
    "pio.renderers.defaule = 'colab'\n",
    "\n",
    "from itables import show"
   ]
  },
  {
   "cell_type": "code",
   "execution_count": null,
   "id": "40945f6e-1a32-4c95-9a56-686a09db83f2",
   "metadata": {},
   "outputs": [],
   "source": [
    "file_location = 'https://joannabieri.com/introdatascience/data/hotels.csv'\n",
    "DF_raw_hotels = pd.read_csv(file_location)"
   ]
  },
  {
   "cell_type": "code",
   "execution_count": null,
   "id": "cf9bcb7c-2440-4651-aad0-d27e779933f6",
   "metadata": {},
   "outputs": [],
   "source": [
    "show(DF_raw_hotels)"
   ]
  },
  {
   "cell_type": "code",
   "execution_count": null,
   "id": "2bee57b5-06b5-4502-bb8c-f9e5470126e5",
   "metadata": {},
   "outputs": [],
   "source": [
    "# I always look at the column names - they have to be spelled exactly!\n",
    "columns_list = list(DF_raw_hotels.keys())\n",
    "print(columns_list)"
   ]
  },
  {
   "cell_type": "markdown",
   "id": "fb22b81a-8600-414d-aec8-5d8776ea6bde",
   "metadata": {},
   "source": [
    "### Example of Combining Masks\n",
    "\n",
    "* Show only results for visitors from USA or GBR."
   ]
  },
  {
   "cell_type": "code",
   "execution_count": null,
   "id": "e7ddf1a1-457b-4ba8-93f5-ad5e671e1700",
   "metadata": {},
   "outputs": [],
   "source": [
    "mask = (DF_raw_hotels['country']=='USA') | (DF_raw_hotels['country']=='GBR')\n",
    "DF_raw_hotels[mask]"
   ]
  },
  {
   "cell_type": "markdown",
   "id": "375f4067-5efd-40c4-991f-6545c3f263ea",
   "metadata": {},
   "source": [
    "## Example Finding unique values\n"
   ]
  },
  {
   "cell_type": "code",
   "execution_count": null,
   "id": "3ff620dc-0f2b-4b39-a3ec-994e611799fa",
   "metadata": {},
   "outputs": [],
   "source": [
    "my_columns = ['market_segment']\n",
    "DF_raw_hotels[my_columns].drop_duplicates()"
   ]
  },
  {
   "cell_type": "code",
   "execution_count": null,
   "id": "ac44ea21-a1ec-4de5-9f42-fdfc5cb5a28c",
   "metadata": {},
   "outputs": [],
   "source": [
    "my_columns = ['market_segment','customer_type']\n",
    "DF_raw_hotels[my_columns].drop_duplicates()"
   ]
  },
  {
   "cell_type": "markdown",
   "id": "fd184c04-061b-434d-ba4a-9460c5ceb25c",
   "metadata": {},
   "source": [
    "## Example Counting unique values\n"
   ]
  },
  {
   "cell_type": "code",
   "execution_count": null,
   "id": "30dd04ac-3834-4805-ba5f-2b7f87d1ec9e",
   "metadata": {},
   "outputs": [],
   "source": [
    "my_columns = ['market_segment']\n",
    "DF_raw_hotels[my_columns].value_counts()"
   ]
  },
  {
   "cell_type": "code",
   "execution_count": null,
   "id": "c571869d-5b2e-4d75-8789-c86abcff89bb",
   "metadata": {},
   "outputs": [],
   "source": [
    "my_columns = ['market_segment','customer_type']\n",
    "DF_raw_hotels[my_columns].value_counts()"
   ]
  },
  {
   "cell_type": "markdown",
   "id": "f1593bee-5c60-4538-9fa9-12527fc6d2ea",
   "metadata": {},
   "source": [
    "## Example of Counting unique values in two columns - unsorted\n"
   ]
  },
  {
   "cell_type": "code",
   "execution_count": null,
   "id": "2e61352f-d003-4879-b60a-dde3f6c19751",
   "metadata": {},
   "outputs": [],
   "source": [
    "my_columns = ['market_segment','customer_type']\n",
    "DF_raw_hotels[my_columns].value_counts(sort=False)"
   ]
  },
  {
   "cell_type": "code",
   "execution_count": null,
   "id": "3d9e3a68-e872-4117-b6f7-8fb733a7e73c",
   "metadata": {},
   "outputs": [],
   "source": [
    "my_columns = ['market_segment','customer_type']\n",
    "DF_raw_hotels[my_columns].value_counts(ascending=True)"
   ]
  },
  {
   "cell_type": "markdown",
   "id": "c2350169-ed73-4089-8fed-9484ec05e923",
   "metadata": {},
   "source": [
    "## Example of Saving Unique Values to a Data Frame\n",
    "\n",
    "Just add the command **.reset_index().rename(columns={\"index\": \"value\", 0: \"count\"})**. In this class "
   ]
  },
  {
   "cell_type": "code",
   "execution_count": null,
   "id": "a1b8e743-cc66-4290-97fa-2a7cad2bb510",
   "metadata": {},
   "outputs": [],
   "source": [
    "my_columns = ['market_segment','customer_type']\n",
    "my_counts = DF_raw_hotels[my_columns].value_counts()\n",
    "my_counts = my_counts.reset_index().rename(columns={\"index\": \"value\", 0: \"count\"})\n",
    "show(my_counts)"
   ]
  },
  {
   "cell_type": "markdown",
   "id": "4113401c-1059-464c-bc4f-6787bf224f50",
   "metadata": {},
   "source": [
    "## Example of Adding a column to a Data Frame\n"
   ]
  },
  {
   "cell_type": "code",
   "execution_count": null,
   "id": "ace7c62a-4085-43bb-b4d0-677f39bfa9f1",
   "metadata": {},
   "outputs": [],
   "source": [
    "DF_raw_hotels['little_ones'] = DF_raw_hotels['children'] + DF_raw_hotels['babies']\n",
    "DF_raw_hotels"
   ]
  },
  {
   "cell_type": "markdown",
   "id": "d7ce457a-38c5-48b2-97ee-eecc6af9bf0e",
   "metadata": {},
   "source": [
    "**Q1** Count up the number of little_ones in different hotel types (Hint - use value_counts() with hotel and little_ones as your columns.)\n"
   ]
  },
  {
   "cell_type": "code",
   "execution_count": null,
   "id": "342b5502-ab88-49d0-9dcb-862a7f8602b8",
   "metadata": {},
   "outputs": [],
   "source": [
    "# Your code here:\n",
    "my_columns = ['little_ones', 'hotel']\n",
    "DF_raw_hotels[my_columns].value_counts"
   ]
  },
  {
   "cell_type": "markdown",
   "id": "3b1b52ae-36e1-49c1-bd1b-30165cbfd0ce",
   "metadata": {},
   "source": [
    "**Q2** Add a new column that calculates the total number of humans (all_humans) in the room (adults+children+babies) (Hint - you can copy and paste the code above where we calculated little_ones and add on another thing)"
   ]
  },
  {
   "cell_type": "code",
   "execution_count": null,
   "id": "70ba2273-7186-46c1-8e4d-87bdaa7f6b78",
   "metadata": {},
   "outputs": [],
   "source": [
    "# Your code here\n",
    "DF_raw_hotels['all_humans'] = DF_raw_hotels['adults'] + DF_raw_hotels['babies'] + DF_raw_hotels ['babies']\n",
    "DF_raw_hotels"
   ]
  },
  {
   "cell_type": "markdown",
   "id": "41bea042-6828-4b52-a156-82e7b7ccf21e",
   "metadata": {},
   "source": [
    "**Q3** Can you figure out what the code below is doing - comment on each line -- remember you can add a comment using the hashtag #"
   ]
  },
  {
   "cell_type": "code",
   "execution_count": null,
   "id": "353b836e-d2ab-472d-a483-466ca5d08178",
   "metadata": {},
   "outputs": [],
   "source": [
    "# PLEASE ADD YOUR COMMENTS!\n",
    "DF_raw_hotels['little_ones'] = DF_raw_hotels['children'] + DF_raw_hotels['babies']\n",
    "# The code above is adding all the 'children' and 'babies' together into one column labeled 'little_ones'.\n",
    "my_columns = ['hotel','little_ones']\n",
    "my_counts = DF_raw_hotels[my_columns].value_counts()\n",
    "# The code above is counting the values of the 'hotel' and 'little_ones' variables.\n",
    "my_counts = my_counts.reset_index().rename(columns={\"index\": \"value\", 0: \"count\"})\n",
    "# This code is saving the counted values into a Data Frame. \n",
    "my_counts['proportion']=my_counts['count']/sum(my_counts['count'])\n",
    "# This code is saying that the variable 'proportion' is either the values counted or the sum of those values."
   ]
  },
  {
   "cell_type": "markdown",
   "id": "cee2cacf-ced0-4919-8365-4f9dc747a190",
   "metadata": {},
   "source": [
    "## Example of Grouping the data frame into chunks\n"
   ]
  },
  {
   "cell_type": "code",
   "execution_count": null,
   "id": "400387ac-9d43-4e44-91ea-54ead277f0a3",
   "metadata": {},
   "outputs": [],
   "source": [
    "DF_raw_hotels.groupby(by=['hotel']).sum()"
   ]
  },
  {
   "cell_type": "code",
   "execution_count": null,
   "id": "40f5b055-efcf-42ef-a2c2-9cd5e4dcf37e",
   "metadata": {},
   "outputs": [],
   "source": [
    "my_columns = ['adults','children','little_ones','babies']\n",
    "DF_raw_hotels.groupby(by=['hotel'])[my_columns].sum()"
   ]
  },
  {
   "cell_type": "markdown",
   "id": "81237655-f899-49ee-a158-2fac73e8441e",
   "metadata": {},
   "source": [
    "There are lots of different operaitons you could use:\n",
    "\n",
    "* .min()\n",
    "* .max()\n",
    "* .mean()\n",
    "* .median()\n",
    "* .sum()\n",
    "* .prod()\n",
    "* .count()\n",
    "* .describe()\n"
   ]
  },
  {
   "cell_type": "code",
   "execution_count": null,
   "id": "36ba980f-feed-4655-ba71-e2b20a2d2659",
   "metadata": {},
   "outputs": [],
   "source": [
    "show(DF_raw_hotels.groupby(by=['hotel'])[my_columns].describe())"
   ]
  },
  {
   "cell_type": "markdown",
   "id": "8caf0e2c-79db-49d1-8869-cc69aaf611e6",
   "metadata": {},
   "source": [
    "Here we see that .describe() does all the descriptive statistics for each of columns, broken into the two groups. \n",
    "\n",
    "## Example of Grouping to quickly generate data\n",
    "\n",
    "The .groupby() function lets you quickly generate data about things you care about. In just one command below we are able to look at the total number of occupants for each of the columns (adults, children, little_ones, and babies) for each month in the data set."
   ]
  },
  {
   "cell_type": "code",
   "execution_count": null,
   "id": "58542d27-8f84-4e03-b7e4-733c17e5b492",
   "metadata": {},
   "outputs": [],
   "source": [
    "DF_raw_hotels.groupby(by=['arrival_date_month'])[my_columns].sum()"
   ]
  },
  {
   "cell_type": "markdown",
   "id": "40bdff93-753e-4212-bc44-4c2bbab99e86",
   "metadata": {},
   "source": [
    "**Q4** Try changing the code above to calculate the mean, max, and min for the above data."
   ]
  },
  {
   "cell_type": "markdown",
   "id": "12cdd392-d3d8-4252-ae65-3b5d0a74dd8d",
   "metadata": {},
   "source": [
    "# Exercises:"
   ]
  },
  {
   "cell_type": "markdown",
   "id": "91449490-f20d-4395-96ed-7f1eca0dd943",
   "metadata": {},
   "source": [
    "## Our first big-ish problem:\n",
    "\n",
    "Now you will try to use our hotels data set to answer some questions! You will need to use the tools we have learned so far to look into the data and try to answer the questions. Really try to answer the questions with as few hints as possible!\n",
    "\n",
    "### IF YOU USE MY ANSWER - avoid plagiarism\n",
    "\n",
    "To avoid plagiarism, if you end up copying my answer and using it, YOU MUST explain clearly what each part of the code is doing. It's okay to need to use my code at this point, but it is not helpful to your learning to blindly copy and paste without trying to understand.\n",
    "\n",
    "**Hints and Answers can be found in the lecture notes!**\n",
    "\n",
    "### Exercise 1\n",
    "\n",
    "Are people traveling on a whim?\n",
    "\n",
    "How could you find out?\n",
    "\n",
    "Try creating a mask filtering for hotel bookings where the guest is **not** from the US (`country` code `\"USA\"`) and the `lead_time` is less than 1 day.\n",
    "\n",
    "What proportion of people traveled last minute?\n"
   ]
  },
  {
   "cell_type": "code",
   "execution_count": 35,
   "id": "bec396a5-58cc-4f0d-afb0-7c6a3f5412e3",
   "metadata": {},
   "outputs": [],
   "source": [
    "# Your code here\n"
   ]
  },
  {
   "cell_type": "markdown",
   "id": "6ff3060b-6bf7-4580-ac3d-4e78b8d20ff5",
   "metadata": {},
   "source": [
    "### Exercise 2\n",
    "\n",
    "How many bookings involve at least 1 child **or** baby?"
   ]
  },
  {
   "cell_type": "code",
   "execution_count": 36,
   "id": "9078b52e-a69d-4ede-ba0d-7851eea2c0a2",
   "metadata": {},
   "outputs": [],
   "source": [
    "# Your code here:\n"
   ]
  },
  {
   "cell_type": "markdown",
   "id": "11fb134b-4ff6-4d33-b8a9-b19f6d502f36",
   "metadata": {},
   "source": [
    "### Exercise 3\n",
    "\n",
    "Do you think it's more likely to find bookings with children or babies in city hotels or resort hotels?\n",
    "Test your intuition.\n"
   ]
  },
  {
   "cell_type": "code",
   "execution_count": 37,
   "id": "c57b1e59-67e1-48fd-be59-06a6f4909ee5",
   "metadata": {},
   "outputs": [],
   "source": [
    "# Your code here:\n"
   ]
  },
  {
   "cell_type": "markdown",
   "id": "80587774-3bfc-400d-b2b1-4e8188f8df4b",
   "metadata": {},
   "source": [
    "### Exercise 4\n",
    "\n",
    "Create a frequency table of the number of `adults` in a booking.\n",
    "Display the results in descending order so the most common observation is on top.\n",
    "What is the most common number of adults in bookings in this dataset?\n",
    "Are there any surprising results?\n"
   ]
  },
  {
   "cell_type": "code",
   "execution_count": 38,
   "id": "bd513df5-928a-48f8-b940-9edd18ff9d04",
   "metadata": {},
   "outputs": [],
   "source": [
    "# Your code here:\n"
   ]
  },
  {
   "cell_type": "markdown",
   "id": "d38741ad-d89a-469e-b528-995aab4b2027",
   "metadata": {},
   "source": [
    "### Exercise 5\n",
    "\n",
    "Repeat Exercise 5, once for canceled bookings (`is_canceled` coded as 1) and once for not canceled bookings (`is_canceled` coded as 0).\n",
    "What does this reveal about the surprising results you spotted in the previous exercise?"
   ]
  },
  {
   "cell_type": "code",
   "execution_count": 39,
   "id": "888b434d-6d09-466b-bc49-9f52a5dc8fad",
   "metadata": {},
   "outputs": [],
   "source": [
    "# Your code here:\n"
   ]
  },
  {
   "cell_type": "markdown",
   "id": "d6b87569-1f06-417f-916c-3cfc1de5739d",
   "metadata": {},
   "source": [
    "### Exercise 6\n",
    "\n",
    "Calculate minimum, mean, median, and maximum average daily rate (column labeled 'adr') grouped by `hotel` type so that you can get these statistics separately for resort and city hotels. (Hint - try using .describe() after doing group by)\n",
    "\n",
    "Which type of hotel is higher, on average?"
   ]
  },
  {
   "cell_type": "code",
   "execution_count": 40,
   "id": "3e504f44-a5ac-45a9-8027-3d3fd8b80988",
   "metadata": {},
   "outputs": [],
   "source": [
    "# Your code here:\n"
   ]
  },
  {
   "cell_type": "markdown",
   "id": "11274118-dba5-44aa-b7fc-3b0fcdbe024d",
   "metadata": {},
   "source": [
    "### Exercise 7\n",
    "\n",
    "We observe two unusual values in the summary statistics above -- a negative minimum, and a very high maximum).\n",
    "What types of hotels are these?\n",
    "\n",
    "Locate these observations in the data set and find out the arrival date (year and month) as well as how many people (adults, children, and babies) stayed in the room.\n",
    "\n",
    "You can investigate the data by showing the data frame to locate these values, but preferably you should identify them in a reproducible way with some code.\n"
   ]
  },
  {
   "cell_type": "code",
   "execution_count": null,
   "id": "14fb08c9-e48e-4745-a051-a95aeb788014",
   "metadata": {},
   "outputs": [],
   "source": [
    "# Your code here: \n"
   ]
  }
 ],
 "metadata": {
  "kernelspec": {
   "display_name": "Python 3 (ipykernel)",
   "language": "python",
   "name": "python3"
  },
  "language_info": {
   "codemirror_mode": {
    "name": "ipython",
    "version": 3
   },
   "file_extension": ".py",
   "mimetype": "text/x-python",
   "name": "python",
   "nbconvert_exporter": "python",
   "pygments_lexer": "ipython3",
   "version": "3.12.2"
  }
 },
 "nbformat": 4,
 "nbformat_minor": 5
}
